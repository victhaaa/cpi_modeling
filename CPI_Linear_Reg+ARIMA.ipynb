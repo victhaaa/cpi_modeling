{
 "cells": [
  {
   "cell_type": "code",
   "execution_count": 12,
   "metadata": {
    "collapsed": true
   },
   "outputs": [],
   "source": [
    "from sklearn.linear_model import LinearRegression\n",
    "from sklearn.preprocessing import StandardScaler\n",
    "from sklearn.model_selection import train_test_split\n",
    "from sklearn import metrics\n",
    "import pandas as pd\n",
    "import numpy as np\n",
    "import datetime\n",
    "import time\n",
    "import matplotlib.pyplot as plt\n"
   ]
  },
  {
   "cell_type": "code",
   "execution_count": 8,
   "outputs": [
    {
     "data": {
      "text/plain": "       Time     Food   Energy  Apparel  New vehicles  \\\n0    201203  232.792  253.599  127.258       144.350   \n1    201204  233.234  255.736  128.485       144.522   \n2    201205  233.339  250.306  127.688       144.401   \n3    201206  233.563  244.167  125.241       144.367   \n4    201207  233.630  239.972  122.300       143.953   \n..      ...      ...      ...      ...           ...   \n113  202108  279.135  246.639  121.194       158.652   \n114  202109  281.506  248.228  123.406       160.244   \n115  202110  284.205  255.338  124.323       162.527   \n116  202111  285.507  259.100  122.383       164.511   \n117  202112  286.966  256.207  121.068       166.653   \n\n     Medical care commodities  Tobacco and smoking products  Shelter  \\\n0                     333.188                       845.760  255.609   \n1                     333.060                       847.032  256.031   \n2                     333.131                       845.622  256.442   \n3                     333.348                       849.078  256.950   \n4                     335.048                       858.730  257.409   \n..                        ...                           ...      ...   \n113                   375.685                      1254.492  336.284   \n114                   376.842                      1263.542  337.451   \n115                   379.003                      1287.067  338.671   \n116                   379.483                      1298.746  339.997   \n117                   379.611                      1308.024  341.241   \n\n     Transportation services  \n0                    270.604  \n1                    272.146  \n2                    272.912  \n3                    273.239  \n4                    272.860  \n..                       ...  \n113                  325.652  \n114                  321.673  \n115                  323.903  \n116                  327.749  \n117                  326.063  \n\n[118 rows x 9 columns]",
      "text/html": "<div>\n<style scoped>\n    .dataframe tbody tr th:only-of-type {\n        vertical-align: middle;\n    }\n\n    .dataframe tbody tr th {\n        vertical-align: top;\n    }\n\n    .dataframe thead th {\n        text-align: right;\n    }\n</style>\n<table border=\"1\" class=\"dataframe\">\n  <thead>\n    <tr style=\"text-align: right;\">\n      <th></th>\n      <th>Time</th>\n      <th>Food</th>\n      <th>Energy</th>\n      <th>Apparel</th>\n      <th>New vehicles</th>\n      <th>Medical care commodities</th>\n      <th>Tobacco and smoking products</th>\n      <th>Shelter</th>\n      <th>Transportation services</th>\n    </tr>\n  </thead>\n  <tbody>\n    <tr>\n      <th>0</th>\n      <td>201203</td>\n      <td>232.792</td>\n      <td>253.599</td>\n      <td>127.258</td>\n      <td>144.350</td>\n      <td>333.188</td>\n      <td>845.760</td>\n      <td>255.609</td>\n      <td>270.604</td>\n    </tr>\n    <tr>\n      <th>1</th>\n      <td>201204</td>\n      <td>233.234</td>\n      <td>255.736</td>\n      <td>128.485</td>\n      <td>144.522</td>\n      <td>333.060</td>\n      <td>847.032</td>\n      <td>256.031</td>\n      <td>272.146</td>\n    </tr>\n    <tr>\n      <th>2</th>\n      <td>201205</td>\n      <td>233.339</td>\n      <td>250.306</td>\n      <td>127.688</td>\n      <td>144.401</td>\n      <td>333.131</td>\n      <td>845.622</td>\n      <td>256.442</td>\n      <td>272.912</td>\n    </tr>\n    <tr>\n      <th>3</th>\n      <td>201206</td>\n      <td>233.563</td>\n      <td>244.167</td>\n      <td>125.241</td>\n      <td>144.367</td>\n      <td>333.348</td>\n      <td>849.078</td>\n      <td>256.950</td>\n      <td>273.239</td>\n    </tr>\n    <tr>\n      <th>4</th>\n      <td>201207</td>\n      <td>233.630</td>\n      <td>239.972</td>\n      <td>122.300</td>\n      <td>143.953</td>\n      <td>335.048</td>\n      <td>858.730</td>\n      <td>257.409</td>\n      <td>272.860</td>\n    </tr>\n    <tr>\n      <th>...</th>\n      <td>...</td>\n      <td>...</td>\n      <td>...</td>\n      <td>...</td>\n      <td>...</td>\n      <td>...</td>\n      <td>...</td>\n      <td>...</td>\n      <td>...</td>\n    </tr>\n    <tr>\n      <th>113</th>\n      <td>202108</td>\n      <td>279.135</td>\n      <td>246.639</td>\n      <td>121.194</td>\n      <td>158.652</td>\n      <td>375.685</td>\n      <td>1254.492</td>\n      <td>336.284</td>\n      <td>325.652</td>\n    </tr>\n    <tr>\n      <th>114</th>\n      <td>202109</td>\n      <td>281.506</td>\n      <td>248.228</td>\n      <td>123.406</td>\n      <td>160.244</td>\n      <td>376.842</td>\n      <td>1263.542</td>\n      <td>337.451</td>\n      <td>321.673</td>\n    </tr>\n    <tr>\n      <th>115</th>\n      <td>202110</td>\n      <td>284.205</td>\n      <td>255.338</td>\n      <td>124.323</td>\n      <td>162.527</td>\n      <td>379.003</td>\n      <td>1287.067</td>\n      <td>338.671</td>\n      <td>323.903</td>\n    </tr>\n    <tr>\n      <th>116</th>\n      <td>202111</td>\n      <td>285.507</td>\n      <td>259.100</td>\n      <td>122.383</td>\n      <td>164.511</td>\n      <td>379.483</td>\n      <td>1298.746</td>\n      <td>339.997</td>\n      <td>327.749</td>\n    </tr>\n    <tr>\n      <th>117</th>\n      <td>202112</td>\n      <td>286.966</td>\n      <td>256.207</td>\n      <td>121.068</td>\n      <td>166.653</td>\n      <td>379.611</td>\n      <td>1308.024</td>\n      <td>341.241</td>\n      <td>326.063</td>\n    </tr>\n  </tbody>\n</table>\n<p>118 rows × 9 columns</p>\n</div>"
     },
     "execution_count": 8,
     "metadata": {},
     "output_type": "execute_result"
    }
   ],
   "source": [
    "Data = pd.read_csv(\"CPI_Data/Cat_CPI&PPI/Cat_CPI.csv\")\n",
    "Data"
   ],
   "metadata": {
    "collapsed": false,
    "pycharm": {
     "name": "#%%\n"
    }
   }
  },
  {
   "cell_type": "code",
   "execution_count": 22,
   "outputs": [],
   "source": [
    "X = Data.iloc[:,0:1].values\n",
    "Y = Data.iloc[:,1:].T.values"
   ],
   "metadata": {
    "collapsed": false,
    "pycharm": {
     "name": "#%%\n"
    }
   }
  },
  {
   "cell_type": "code",
   "execution_count": 5,
   "outputs": [],
   "source": [
    "def evaluate_model(model, x, y):\n",
    "    scores = []\n",
    "    i = 1\n",
    "    for index in y:\n",
    "        x_train, x_test, y_train, y_test = train_test_split(x, index, random_state=1, test_size=0.2)\n",
    "        model.fit(x_train, y_train)\n",
    "        predict = model.predict(x_test)\n",
    "        score = np.sqrt(metrics.mean_squared_error(predict, y_test))\n",
    "        scores.append(score)\n",
    "        index_name = Data.columns[i]\n",
    "        print(f\"The model {model} can predict {index_name} index with root mean squared error of {score}\")\n",
    "        print(model.score(x_train, y_train))\n",
    "        i += 1\n",
    "    print(\"The mean error: \" + str(np.mean(scores)))"
   ],
   "metadata": {
    "collapsed": false,
    "pycharm": {
     "name": "#%%\n"
    }
   }
  },
  {
   "cell_type": "code",
   "execution_count": 6,
   "outputs": [
    {
     "name": "stdout",
     "output_type": "stream",
     "text": [
      "The model LinearRegression() can predict Food index with root mean squared error of 4.494881573126642\n",
      "0.9062433789459778\n",
      "The model LinearRegression() can predict Energy index with root mean squared error of 24.257106203164923\n",
      "0.1399106447969065\n",
      "The model LinearRegression() can predict Apparel index with root mean squared error of 3.560496072249128\n",
      "0.38544226702957374\n",
      "The model LinearRegression() can predict New vehicles index with root mean squared error of 3.486342935194696\n",
      "0.3258022878378779\n",
      "The model LinearRegression() can predict Medical care commodities index with root mean squared error of 8.006997245833995\n",
      "0.8419990866026268\n",
      "The model LinearRegression() can predict Tobacco and smoking products index with root mean squared error of 28.633498958363848\n",
      "0.9561597265027859\n",
      "The model LinearRegression() can predict Shelter index with root mean squared error of 2.5074864055506025\n",
      "0.9876268456820839\n",
      "The model LinearRegression() can predict Transportation services index with root mean squared error of 8.72690644230345\n",
      "0.8696956213424838\n",
      "The mean error: 10.45921447947341\n"
     ]
    }
   ],
   "source": [
    "Linear_Reg = LinearRegression()\n",
    "evaluate_model(Linear_Reg, X, Y)"
   ],
   "metadata": {
    "collapsed": false,
    "pycharm": {
     "name": "#%%\n"
    }
   }
  },
  {
   "cell_type": "code",
   "execution_count": 7,
   "outputs": [
    {
     "name": "stdout",
     "output_type": "stream",
     "text": [
      "The model predict next month Food index to be around 275.0\n",
      "The model predict next month Apparel index to be around 120.21\n",
      "The model predict next month New vehicles index to be around 151.47\n",
      "The model predict next month Shelter index to be around 342.98\n"
     ]
    }
   ],
   "source": [
    "Y_name = ['Food','Apparel','New vehicles','Shelter']\n",
    "Y = Data[Y_name].values.T\n",
    "prediction = []\n",
    "i = 0\n",
    "for index in Y:\n",
    "    Linear_Reg.fit(X, index)\n",
    "    predict = Linear_Reg.predict([[202203]])\n",
    "    print(f\"The model predict next month {Y_name[i]} index to be around {round(predict[0], 2)}\")\n",
    "    i += 1\n"
   ],
   "metadata": {
    "collapsed": false,
    "pycharm": {
     "name": "#%%\n"
    }
   }
  },
  {
   "cell_type": "code",
   "execution_count": 8,
   "outputs": [
    {
     "data": {
      "text/plain": "               Food   Energy  Apparel  New vehicles  Medical care commodities  \\\nTime                                                                            \n2012-03-01  232.792  253.599  127.258       144.350                   333.188   \n2012-04-01  233.234  255.736  128.485       144.522                   333.060   \n2012-05-01  233.339  250.306  127.688       144.401                   333.131   \n2012-06-01  233.563  244.167  125.241       144.367                   333.348   \n2012-07-01  233.630  239.972  122.300       143.953                   335.048   \n...             ...      ...      ...           ...                       ...   \n2021-08-01  279.135  246.639  121.194       158.652                   375.685   \n2021-09-01  281.506  248.228  123.406       160.244                   376.842   \n2021-10-01  284.205  255.338  124.323       162.527                   379.003   \n2021-11-01  285.507  259.100  122.383       164.511                   379.483   \n2021-12-01  286.966  256.207  121.068       166.653                   379.611   \n\n            Tobacco and smoking products  Shelter  Transportation services  \nTime                                                                        \n2012-03-01                       845.760  255.609                  270.604  \n2012-04-01                       847.032  256.031                  272.146  \n2012-05-01                       845.622  256.442                  272.912  \n2012-06-01                       849.078  256.950                  273.239  \n2012-07-01                       858.730  257.409                  272.860  \n...                                  ...      ...                      ...  \n2021-08-01                      1254.492  336.284                  325.652  \n2021-09-01                      1263.542  337.451                  321.673  \n2021-10-01                      1287.067  338.671                  323.903  \n2021-11-01                      1298.746  339.997                  327.749  \n2021-12-01                      1308.024  341.241                  326.063  \n\n[118 rows x 8 columns]",
      "text/html": "<div>\n<style scoped>\n    .dataframe tbody tr th:only-of-type {\n        vertical-align: middle;\n    }\n\n    .dataframe tbody tr th {\n        vertical-align: top;\n    }\n\n    .dataframe thead th {\n        text-align: right;\n    }\n</style>\n<table border=\"1\" class=\"dataframe\">\n  <thead>\n    <tr style=\"text-align: right;\">\n      <th></th>\n      <th>Food</th>\n      <th>Energy</th>\n      <th>Apparel</th>\n      <th>New vehicles</th>\n      <th>Medical care commodities</th>\n      <th>Tobacco and smoking products</th>\n      <th>Shelter</th>\n      <th>Transportation services</th>\n    </tr>\n    <tr>\n      <th>Time</th>\n      <th></th>\n      <th></th>\n      <th></th>\n      <th></th>\n      <th></th>\n      <th></th>\n      <th></th>\n      <th></th>\n    </tr>\n  </thead>\n  <tbody>\n    <tr>\n      <th>2012-03-01</th>\n      <td>232.792</td>\n      <td>253.599</td>\n      <td>127.258</td>\n      <td>144.350</td>\n      <td>333.188</td>\n      <td>845.760</td>\n      <td>255.609</td>\n      <td>270.604</td>\n    </tr>\n    <tr>\n      <th>2012-04-01</th>\n      <td>233.234</td>\n      <td>255.736</td>\n      <td>128.485</td>\n      <td>144.522</td>\n      <td>333.060</td>\n      <td>847.032</td>\n      <td>256.031</td>\n      <td>272.146</td>\n    </tr>\n    <tr>\n      <th>2012-05-01</th>\n      <td>233.339</td>\n      <td>250.306</td>\n      <td>127.688</td>\n      <td>144.401</td>\n      <td>333.131</td>\n      <td>845.622</td>\n      <td>256.442</td>\n      <td>272.912</td>\n    </tr>\n    <tr>\n      <th>2012-06-01</th>\n      <td>233.563</td>\n      <td>244.167</td>\n      <td>125.241</td>\n      <td>144.367</td>\n      <td>333.348</td>\n      <td>849.078</td>\n      <td>256.950</td>\n      <td>273.239</td>\n    </tr>\n    <tr>\n      <th>2012-07-01</th>\n      <td>233.630</td>\n      <td>239.972</td>\n      <td>122.300</td>\n      <td>143.953</td>\n      <td>335.048</td>\n      <td>858.730</td>\n      <td>257.409</td>\n      <td>272.860</td>\n    </tr>\n    <tr>\n      <th>...</th>\n      <td>...</td>\n      <td>...</td>\n      <td>...</td>\n      <td>...</td>\n      <td>...</td>\n      <td>...</td>\n      <td>...</td>\n      <td>...</td>\n    </tr>\n    <tr>\n      <th>2021-08-01</th>\n      <td>279.135</td>\n      <td>246.639</td>\n      <td>121.194</td>\n      <td>158.652</td>\n      <td>375.685</td>\n      <td>1254.492</td>\n      <td>336.284</td>\n      <td>325.652</td>\n    </tr>\n    <tr>\n      <th>2021-09-01</th>\n      <td>281.506</td>\n      <td>248.228</td>\n      <td>123.406</td>\n      <td>160.244</td>\n      <td>376.842</td>\n      <td>1263.542</td>\n      <td>337.451</td>\n      <td>321.673</td>\n    </tr>\n    <tr>\n      <th>2021-10-01</th>\n      <td>284.205</td>\n      <td>255.338</td>\n      <td>124.323</td>\n      <td>162.527</td>\n      <td>379.003</td>\n      <td>1287.067</td>\n      <td>338.671</td>\n      <td>323.903</td>\n    </tr>\n    <tr>\n      <th>2021-11-01</th>\n      <td>285.507</td>\n      <td>259.100</td>\n      <td>122.383</td>\n      <td>164.511</td>\n      <td>379.483</td>\n      <td>1298.746</td>\n      <td>339.997</td>\n      <td>327.749</td>\n    </tr>\n    <tr>\n      <th>2021-12-01</th>\n      <td>286.966</td>\n      <td>256.207</td>\n      <td>121.068</td>\n      <td>166.653</td>\n      <td>379.611</td>\n      <td>1308.024</td>\n      <td>341.241</td>\n      <td>326.063</td>\n    </tr>\n  </tbody>\n</table>\n<p>118 rows × 8 columns</p>\n</div>"
     },
     "execution_count": 8,
     "metadata": {},
     "output_type": "execute_result"
    }
   ],
   "source": [
    "cat_cpi = pd.read_csv(\"CPI_Data/Cat_CPI&PPI/Cat_CPI.csv\")\n",
    "cat_cpi.set_index(pd.to_datetime(cat_cpi['Time'], format = '%Y%m'), inplace = True)\n",
    "cat_cpi.drop(['Time'], axis = 1, inplace = True)\n",
    "cat_cpi"
   ],
   "metadata": {
    "collapsed": false,
    "pycharm": {
     "name": "#%%\n"
    }
   }
  },
  {
   "cell_type": "code",
   "execution_count": 9,
   "outputs": [],
   "source": [
    "import numpy as np\n",
    "import pandas as pd\n",
    "import matplotlib.pyplot as plt\n",
    "from statsmodels.tsa.arima.model import ARIMA"
   ],
   "metadata": {
    "collapsed": false,
    "pycharm": {
     "name": "#%%\n"
    }
   }
  },
  {
   "cell_type": "code",
   "execution_count": 10,
   "outputs": [],
   "source": [
    "from statsmodels.tsa.stattools import adfuller\n",
    "\n",
    "def adf_test(dataset):\n",
    "    dftest = adfuller(dataset, autolag = 'AIC')\n",
    "    print(\"1. ADF : \",dftest[0])\n",
    "    print(\"2. P-Value : \", dftest[1])\n",
    "    print(\"3. Num Of Lags : \", dftest[2])\n",
    "    print(\"4. Num Of Observations Used For ADF Regression and Critical Values Calculation :\", dftest[3])\n",
    "    print(\"5. Critical Values :\")\n",
    "    for key, val in dftest[4].items():\n",
    "        print(\"\\t\",key, \": \", val)"
   ],
   "metadata": {
    "collapsed": false,
    "pycharm": {
     "name": "#%%\n"
    }
   }
  },
  {
   "cell_type": "code",
   "execution_count": 11,
   "outputs": [
    {
     "name": "stdout",
     "output_type": "stream",
     "text": [
      "Food\n",
      "1. ADF :  2.2015850349133337\n",
      "2. P-Value :  0.9988838066526566\n",
      "3. Num Of Lags :  12\n",
      "4. Num Of Observations Used For ADF Regression and Critical Values Calculation : 105\n",
      "5. Critical Values :\n",
      "\t 1% :  -3.4942202045135513\n",
      "\t 5% :  -2.889485291005291\n",
      "\t 10% :  -2.5816762131519275\n",
      "\n",
      "\n",
      "Energy\n",
      "1. ADF :  -2.5940258985873426\n",
      "2. P-Value :  0.09423828973712362\n",
      "3. Num Of Lags :  1\n",
      "4. Num Of Observations Used For ADF Regression and Critical Values Calculation : 116\n",
      "5. Critical Values :\n",
      "\t 1% :  -3.4880216384691867\n",
      "\t 5% :  -2.8867966864160075\n",
      "\t 10% :  -2.5802408234244947\n",
      "\n",
      "\n",
      "Apparel\n",
      "1. ADF :  -1.8477040362530937\n",
      "2. P-Value :  0.3570481195785644\n",
      "3. Num Of Lags :  12\n",
      "4. Num Of Observations Used For ADF Regression and Critical Values Calculation : 105\n",
      "5. Critical Values :\n",
      "\t 1% :  -3.4942202045135513\n",
      "\t 5% :  -2.889485291005291\n",
      "\t 10% :  -2.5816762131519275\n",
      "\n",
      "\n",
      "New vehicles\n",
      "1. ADF :  1.6197736740164312\n",
      "2. P-Value :  0.9979157027200924\n",
      "3. Num Of Lags :  11\n",
      "4. Num Of Observations Used For ADF Regression and Critical Values Calculation : 106\n",
      "5. Critical Values :\n",
      "\t 1% :  -3.4936021509366793\n",
      "\t 5% :  -2.8892174239808703\n",
      "\t 10% :  -2.58153320754717\n",
      "\n",
      "\n",
      "Medical care commodities\n",
      "1. ADF :  -1.414381270497464\n",
      "2. P-Value :  0.5753624685097077\n",
      "3. Num Of Lags :  5\n",
      "4. Num Of Observations Used For ADF Regression and Critical Values Calculation : 112\n",
      "5. Critical Values :\n",
      "\t 1% :  -3.4901313156261384\n",
      "\t 5% :  -2.8877122815688776\n",
      "\t 10% :  -2.5807296460459184\n",
      "\n",
      "\n",
      "Tobacco and smoking products\n",
      "1. ADF :  3.3533402321064627\n",
      "2. P-Value :  1.0\n",
      "3. Num Of Lags :  6\n",
      "4. Num Of Observations Used For ADF Regression and Critical Values Calculation : 111\n",
      "5. Critical Values :\n",
      "\t 1% :  -3.490683082754047\n",
      "\t 5% :  -2.8879516565798817\n",
      "\t 10% :  -2.5808574442009578\n",
      "\n",
      "\n",
      "Shelter\n",
      "1. ADF :  2.173383605423897\n",
      "2. P-Value :  0.9988598812560615\n",
      "3. Num Of Lags :  1\n",
      "4. Num Of Observations Used For ADF Regression and Critical Values Calculation : 116\n",
      "5. Critical Values :\n",
      "\t 1% :  -3.4880216384691867\n",
      "\t 5% :  -2.8867966864160075\n",
      "\t 10% :  -2.5802408234244947\n",
      "\n",
      "\n",
      "Transportation services\n",
      "1. ADF :  -1.3102563174618322\n",
      "2. P-Value :  0.6244670706743298\n",
      "3. Num Of Lags :  13\n",
      "4. Num Of Observations Used For ADF Regression and Critical Values Calculation : 104\n",
      "5. Critical Values :\n",
      "\t 1% :  -3.4948504603223145\n",
      "\t 5% :  -2.889758398668639\n",
      "\t 10% :  -2.5818220155325444\n",
      "\n",
      "\n"
     ]
    }
   ],
   "source": [
    "columns = cat_cpi.columns\n",
    "for idx in range(cat_cpi.shape[1]):\n",
    "    print(columns[idx])\n",
    "    ind = cat_cpi.iloc[:, idx]\n",
    "    adf_test(ind)\n",
    "    print('\\n')"
   ],
   "metadata": {
    "collapsed": false,
    "pycharm": {
     "name": "#%%\n"
    }
   }
  },
  {
   "cell_type": "code",
   "execution_count": 12,
   "outputs": [
    {
     "name": "stdout",
     "output_type": "stream",
     "text": [
      " ARIMA(0,1,1)(0,0,0)[0]          \n"
     ]
    },
    {
     "data": {
      "text/plain": "<class 'statsmodels.iolib.summary.Summary'>\n\"\"\"\n                               SARIMAX Results                                \n==============================================================================\nDep. Variable:                      y   No. Observations:                  118\nModel:               SARIMAX(0, 1, 1)   Log Likelihood                -363.402\nDate:                Wed, 23 Feb 2022   AIC                            730.804\nTime:                        14:30:22   BIC                            736.328\nSample:                             0   HQIC                           733.047\n                                - 118                                         \nCovariance Type:                  opg                                         \n==============================================================================\n                 coef    std err          z      P>|z|      [0.025      0.975]\n------------------------------------------------------------------------------\nma.L1          0.5247      0.080      6.528      0.000       0.367       0.682\nsigma2        29.1187      3.866      7.532      0.000      21.541      36.696\n===================================================================================\nLjung-Box (L1) (Q):                   0.15   Jarque-Bera (JB):                 0.04\nProb(Q):                              0.70   Prob(JB):                         0.98\nHeteroskedasticity (H):               0.67   Skew:                            -0.04\nProb(H) (two-sided):                  0.21   Kurtosis:                         2.95\n===================================================================================\n\nWarnings:\n[1] Covariance matrix calculated using the outer product of gradients (complex-step).\n\"\"\"",
      "text/html": "<table class=\"simpletable\">\n<caption>SARIMAX Results</caption>\n<tr>\n  <th>Dep. Variable:</th>           <td>y</td>        <th>  No. Observations:  </th>    <td>118</td>  \n</tr>\n<tr>\n  <th>Model:</th>           <td>SARIMAX(0, 1, 1)</td> <th>  Log Likelihood     </th> <td>-363.402</td>\n</tr>\n<tr>\n  <th>Date:</th>            <td>Wed, 23 Feb 2022</td> <th>  AIC                </th>  <td>730.804</td>\n</tr>\n<tr>\n  <th>Time:</th>                <td>14:30:22</td>     <th>  BIC                </th>  <td>736.328</td>\n</tr>\n<tr>\n  <th>Sample:</th>                  <td>0</td>        <th>  HQIC               </th>  <td>733.047</td>\n</tr>\n<tr>\n  <th></th>                      <td> - 118</td>      <th>                     </th>     <td> </td>   \n</tr>\n<tr>\n  <th>Covariance Type:</th>        <td>opg</td>       <th>                     </th>     <td> </td>   \n</tr>\n</table>\n<table class=\"simpletable\">\n<tr>\n     <td></td>       <th>coef</th>     <th>std err</th>      <th>z</th>      <th>P>|z|</th>  <th>[0.025</th>    <th>0.975]</th>  \n</tr>\n<tr>\n  <th>ma.L1</th>  <td>    0.5247</td> <td>    0.080</td> <td>    6.528</td> <td> 0.000</td> <td>    0.367</td> <td>    0.682</td>\n</tr>\n<tr>\n  <th>sigma2</th> <td>   29.1187</td> <td>    3.866</td> <td>    7.532</td> <td> 0.000</td> <td>   21.541</td> <td>   36.696</td>\n</tr>\n</table>\n<table class=\"simpletable\">\n<tr>\n  <th>Ljung-Box (L1) (Q):</th>     <td>0.15</td> <th>  Jarque-Bera (JB):  </th> <td>0.04</td> \n</tr>\n<tr>\n  <th>Prob(Q):</th>                <td>0.70</td> <th>  Prob(JB):          </th> <td>0.98</td> \n</tr>\n<tr>\n  <th>Heteroskedasticity (H):</th> <td>0.67</td> <th>  Skew:              </th> <td>-0.04</td>\n</tr>\n<tr>\n  <th>Prob(H) (two-sided):</th>    <td>0.21</td> <th>  Kurtosis:          </th> <td>2.95</td> \n</tr>\n</table><br/><br/>Warnings:<br/>[1] Covariance matrix calculated using the outer product of gradients (complex-step)."
     },
     "execution_count": 12,
     "metadata": {},
     "output_type": "execute_result"
    }
   ],
   "source": [
    "from pmdarima import auto_arima\n",
    "# Ignore harmless warnings\n",
    "import warnings\n",
    "warnings.filterwarnings(\"ignore\")\n",
    "\n",
    "stepwise_fit = auto_arima(cat_cpi['Energy'],\n",
    "                          suppress_warnings=True)\n",
    "print(stepwise_fit)\n",
    "stepwise_fit.summary()"
   ],
   "metadata": {
    "collapsed": false,
    "pycharm": {
     "name": "#%%\n"
    }
   }
  },
  {
   "cell_type": "code",
   "execution_count": 13,
   "outputs": [
    {
     "data": {
      "text/plain": "118"
     },
     "execution_count": 13,
     "metadata": {},
     "output_type": "execute_result"
    }
   ],
   "source": [
    "cat_cpi.shape[0]"
   ],
   "metadata": {
    "collapsed": false,
    "pycharm": {
     "name": "#%%\n"
    }
   }
  },
  {
   "cell_type": "code",
   "execution_count": 14,
   "outputs": [
    {
     "name": "stdout",
     "output_type": "stream",
     "text": [
      "(114,) (4,)\n",
      "248.228 256.207\n"
     ]
    }
   ],
   "source": [
    "X = cat_cpi['Energy']\n",
    "train = X.iloc[:-4]\n",
    "test = X.iloc[-4:]\n",
    "print(train.shape,test.shape)\n",
    "print(test.iloc[0],test.iloc[-1])"
   ],
   "metadata": {
    "collapsed": false,
    "pycharm": {
     "name": "#%%\n"
    }
   }
  },
  {
   "cell_type": "code",
   "execution_count": 15,
   "outputs": [
    {
     "data": {
      "text/plain": "<class 'statsmodels.iolib.summary.Summary'>\n\"\"\"\n                               SARIMAX Results                                \n==============================================================================\nDep. Variable:                 Energy   No. Observations:                  118\nModel:                 ARIMA(0, 1, 1)   Log Likelihood                -363.402\nDate:                Wed, 23 Feb 2022   AIC                            730.804\nTime:                        14:30:22   BIC                            736.328\nSample:                    03-01-2012   HQIC                           733.047\n                         - 12-01-2021                                         \nCovariance Type:                  opg                                         \n==============================================================================\n                 coef    std err          z      P>|z|      [0.025      0.975]\n------------------------------------------------------------------------------\nma.L1          0.5247      0.080      6.528      0.000       0.367       0.682\nsigma2        29.1187      3.866      7.532      0.000      21.541      36.696\n===================================================================================\nLjung-Box (L1) (Q):                   0.15   Jarque-Bera (JB):                 0.04\nProb(Q):                              0.70   Prob(JB):                         0.98\nHeteroskedasticity (H):               0.67   Skew:                            -0.04\nProb(H) (two-sided):                  0.21   Kurtosis:                         2.95\n===================================================================================\n\nWarnings:\n[1] Covariance matrix calculated using the outer product of gradients (complex-step).\n\"\"\"",
      "text/html": "<table class=\"simpletable\">\n<caption>SARIMAX Results</caption>\n<tr>\n  <th>Dep. Variable:</th>        <td>Energy</td>      <th>  No. Observations:  </th>    <td>118</td>  \n</tr>\n<tr>\n  <th>Model:</th>            <td>ARIMA(0, 1, 1)</td>  <th>  Log Likelihood     </th> <td>-363.402</td>\n</tr>\n<tr>\n  <th>Date:</th>            <td>Wed, 23 Feb 2022</td> <th>  AIC                </th>  <td>730.804</td>\n</tr>\n<tr>\n  <th>Time:</th>                <td>14:30:22</td>     <th>  BIC                </th>  <td>736.328</td>\n</tr>\n<tr>\n  <th>Sample:</th>             <td>03-01-2012</td>    <th>  HQIC               </th>  <td>733.047</td>\n</tr>\n<tr>\n  <th></th>                   <td>- 12-01-2021</td>   <th>                     </th>     <td> </td>   \n</tr>\n<tr>\n  <th>Covariance Type:</th>        <td>opg</td>       <th>                     </th>     <td> </td>   \n</tr>\n</table>\n<table class=\"simpletable\">\n<tr>\n     <td></td>       <th>coef</th>     <th>std err</th>      <th>z</th>      <th>P>|z|</th>  <th>[0.025</th>    <th>0.975]</th>  \n</tr>\n<tr>\n  <th>ma.L1</th>  <td>    0.5247</td> <td>    0.080</td> <td>    6.528</td> <td> 0.000</td> <td>    0.367</td> <td>    0.682</td>\n</tr>\n<tr>\n  <th>sigma2</th> <td>   29.1187</td> <td>    3.866</td> <td>    7.532</td> <td> 0.000</td> <td>   21.541</td> <td>   36.696</td>\n</tr>\n</table>\n<table class=\"simpletable\">\n<tr>\n  <th>Ljung-Box (L1) (Q):</th>     <td>0.15</td> <th>  Jarque-Bera (JB):  </th> <td>0.04</td> \n</tr>\n<tr>\n  <th>Prob(Q):</th>                <td>0.70</td> <th>  Prob(JB):          </th> <td>0.98</td> \n</tr>\n<tr>\n  <th>Heteroskedasticity (H):</th> <td>0.67</td> <th>  Skew:              </th> <td>-0.04</td>\n</tr>\n<tr>\n  <th>Prob(H) (two-sided):</th>    <td>0.21</td> <th>  Kurtosis:          </th> <td>2.95</td> \n</tr>\n</table><br/><br/>Warnings:<br/>[1] Covariance matrix calculated using the outer product of gradients (complex-step)."
     },
     "execution_count": 15,
     "metadata": {},
     "output_type": "execute_result"
    }
   ],
   "source": [
    "from statsmodels.tsa.arima.model import ARIMA\n",
    "model=ARIMA(X,order=(0,1,1))\n",
    "model=model.fit()\n",
    "model.summary()"
   ],
   "metadata": {
    "collapsed": false,
    "pycharm": {
     "name": "#%%\n"
    }
   }
  },
  {
   "cell_type": "code",
   "execution_count": 20,
   "outputs": [
    {
     "name": "stdout",
     "output_type": "stream",
     "text": [
      "2021-09-01    246.711802\n",
      "2021-10-01    249.023501\n",
      "2021-11-01    258.651016\n",
      "2021-12-01    259.335568\n",
      "Freq: MS, Name: ARIMA predictions, dtype: float64\n"
     ]
    }
   ],
   "source": [
    "start= len(train)\n",
    "end=len(train)+len(test)-1\n",
    "\n",
    "index_future_dates = pd.date_range(start='2021-09',end='2021-12', freq='M')\n",
    "pred = model.predict(start=start,end=end,typ='levels').rename('ARIMA predictions')\n",
    "print(pred)"
   ],
   "metadata": {
    "collapsed": false,
    "pycharm": {
     "name": "#%%\n"
    }
   }
  },
  {
   "cell_type": "code",
   "execution_count": 23,
   "outputs": [
    {
     "data": {
      "text/plain": "<AxesSubplot:xlabel='Time'>"
     },
     "execution_count": 23,
     "metadata": {},
     "output_type": "execute_result"
    },
    {
     "data": {
      "text/plain": "<Figure size 432x288 with 1 Axes>",
      "image/png": "[encoded data removed]"
     },
     "metadata": {
      "needs_background": "light"
     },
     "output_type": "display_data"
    }
   ],
   "source": [
    "pred.plot(legend=True)\n",
    "test.plot(legend=True)"
   ],
   "metadata": {
    "collapsed": false,
    "pycharm": {
     "name": "#%%\n"
    }
   }
  },
  {
   "cell_type": "code",
   "execution_count": 24,
   "outputs": [],
   "source": [
    "test_mean = test.mean()"
   ],
   "metadata": {
    "collapsed": false,
    "pycharm": {
     "name": "#%%\n"
    }
   }
  },
  {
   "cell_type": "code",
   "execution_count": 26,
   "outputs": [
    {
     "name": "stdout",
     "output_type": "stream",
     "text": [
      "3.611138365353111\n",
      "0.014176991108226877\n"
     ]
    }
   ],
   "source": [
    "from sklearn.metrics import mean_squared_error\n",
    "from math import sqrt\n",
    "rmse=sqrt(mean_squared_error(pred,test))\n",
    "print(rmse)\n",
    "print(rmse / test_mean)"
   ],
   "metadata": {
    "collapsed": false,
    "pycharm": {
     "name": "#%%\n"
    }
   }
  }
 ],
 "metadata": {
  "kernelspec": {
   "display_name": "Python 3",
   "language": "python",
   "name": "python3"
  },
  "language_info": {
   "codemirror_mode": {
    "name": "ipython",
    "version": 2
   },
   "file_extension": ".py",
   "mimetype": "text/x-python",
   "name": "python",
   "nbconvert_exporter": "python",
   "pygments_lexer": "ipython2",
   "version": "2.7.6"
  }
 },
 "nbformat": 4,
 "nbformat_minor": 0
}