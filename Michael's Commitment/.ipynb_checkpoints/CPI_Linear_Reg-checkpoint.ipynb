{
 "cells": [
  {
   "cell_type": "code",
   "execution_count": 12,
   "metadata": {
    "collapsed": true
   },
   "outputs": [],
   "source": [
    "from sklearn.linear_model import LinearRegression\n",
    "from sklearn.preprocessing import StandardScaler\n",
    "from sklearn.model_selection import train_test_split\n",
    "from sklearn import metrics\n",
    "import pandas as pd\n",
    "import numpy as np\n",
    "import datetime\n",
    "import time\n",
    "import matplotlib.pyplot as plt\n"
   ]
  },
  {
   "cell_type": "code",
   "execution_count": 8,
   "metadata": {
    "pycharm": {
     "name": "#%%\n"
    }
   },
   "outputs": [
    {
     "data": {
      "text/html": [
       "<div>\n",
       "<style scoped>\n",
       "    .dataframe tbody tr th:only-of-type {\n",
       "        vertical-align: middle;\n",
       "    }\n",
       "\n",
       "    .dataframe tbody tr th {\n",
       "        vertical-align: top;\n",
       "    }\n",
       "\n",
       "    .dataframe thead th {\n",
       "        text-align: right;\n",
       "    }\n",
       "</style>\n",
       "<table border=\"1\" class=\"dataframe\">\n",
       "  <thead>\n",
       "    <tr style=\"text-align: right;\">\n",
       "      <th></th>\n",
       "      <th>Time</th>\n",
       "      <th>Food</th>\n",
       "      <th>Energy</th>\n",
       "      <th>Apparel</th>\n",
       "      <th>New vehicles</th>\n",
       "      <th>Medical care commodities</th>\n",
       "      <th>Tobacco and smoking products</th>\n",
       "      <th>Shelter</th>\n",
       "      <th>Transportation services</th>\n",
       "    </tr>\n",
       "  </thead>\n",
       "  <tbody>\n",
       "    <tr>\n",
       "      <th>0</th>\n",
       "      <td>201203</td>\n",
       "      <td>232.792</td>\n",
       "      <td>253.599</td>\n",
       "      <td>127.258</td>\n",
       "      <td>144.350</td>\n",
       "      <td>333.188</td>\n",
       "      <td>845.760</td>\n",
       "      <td>255.609</td>\n",
       "      <td>270.604</td>\n",
       "    </tr>\n",
       "    <tr>\n",
       "      <th>1</th>\n",
       "      <td>201204</td>\n",
       "      <td>233.234</td>\n",
       "      <td>255.736</td>\n",
       "      <td>128.485</td>\n",
       "      <td>144.522</td>\n",
       "      <td>333.060</td>\n",
       "      <td>847.032</td>\n",
       "      <td>256.031</td>\n",
       "      <td>272.146</td>\n",
       "    </tr>\n",
       "    <tr>\n",
       "      <th>2</th>\n",
       "      <td>201205</td>\n",
       "      <td>233.339</td>\n",
       "      <td>250.306</td>\n",
       "      <td>127.688</td>\n",
       "      <td>144.401</td>\n",
       "      <td>333.131</td>\n",
       "      <td>845.622</td>\n",
       "      <td>256.442</td>\n",
       "      <td>272.912</td>\n",
       "    </tr>\n",
       "    <tr>\n",
       "      <th>3</th>\n",
       "      <td>201206</td>\n",
       "      <td>233.563</td>\n",
       "      <td>244.167</td>\n",
       "      <td>125.241</td>\n",
       "      <td>144.367</td>\n",
       "      <td>333.348</td>\n",
       "      <td>849.078</td>\n",
       "      <td>256.950</td>\n",
       "      <td>273.239</td>\n",
       "    </tr>\n",
       "    <tr>\n",
       "      <th>4</th>\n",
       "      <td>201207</td>\n",
       "      <td>233.630</td>\n",
       "      <td>239.972</td>\n",
       "      <td>122.300</td>\n",
       "      <td>143.953</td>\n",
       "      <td>335.048</td>\n",
       "      <td>858.730</td>\n",
       "      <td>257.409</td>\n",
       "      <td>272.860</td>\n",
       "    </tr>\n",
       "    <tr>\n",
       "      <th>...</th>\n",
       "      <td>...</td>\n",
       "      <td>...</td>\n",
       "      <td>...</td>\n",
       "      <td>...</td>\n",
       "      <td>...</td>\n",
       "      <td>...</td>\n",
       "      <td>...</td>\n",
       "      <td>...</td>\n",
       "      <td>...</td>\n",
       "    </tr>\n",
       "    <tr>\n",
       "      <th>113</th>\n",
       "      <td>202108</td>\n",
       "      <td>279.135</td>\n",
       "      <td>246.639</td>\n",
       "      <td>121.194</td>\n",
       "      <td>158.652</td>\n",
       "      <td>375.685</td>\n",
       "      <td>1254.492</td>\n",
       "      <td>336.284</td>\n",
       "      <td>325.652</td>\n",
       "    </tr>\n",
       "    <tr>\n",
       "      <th>114</th>\n",
       "      <td>202109</td>\n",
       "      <td>281.506</td>\n",
       "      <td>248.228</td>\n",
       "      <td>123.406</td>\n",
       "      <td>160.244</td>\n",
       "      <td>376.842</td>\n",
       "      <td>1263.542</td>\n",
       "      <td>337.451</td>\n",
       "      <td>321.673</td>\n",
       "    </tr>\n",
       "    <tr>\n",
       "      <th>115</th>\n",
       "      <td>202110</td>\n",
       "      <td>284.205</td>\n",
       "      <td>255.338</td>\n",
       "      <td>124.323</td>\n",
       "      <td>162.527</td>\n",
       "      <td>379.003</td>\n",
       "      <td>1287.067</td>\n",
       "      <td>338.671</td>\n",
       "      <td>323.903</td>\n",
       "    </tr>\n",
       "    <tr>\n",
       "      <th>116</th>\n",
       "      <td>202111</td>\n",
       "      <td>285.507</td>\n",
       "      <td>259.100</td>\n",
       "      <td>122.383</td>\n",
       "      <td>164.511</td>\n",
       "      <td>379.483</td>\n",
       "      <td>1298.746</td>\n",
       "      <td>339.997</td>\n",
       "      <td>327.749</td>\n",
       "    </tr>\n",
       "    <tr>\n",
       "      <th>117</th>\n",
       "      <td>202112</td>\n",
       "      <td>286.966</td>\n",
       "      <td>256.207</td>\n",
       "      <td>121.068</td>\n",
       "      <td>166.653</td>\n",
       "      <td>379.611</td>\n",
       "      <td>1308.024</td>\n",
       "      <td>341.241</td>\n",
       "      <td>326.063</td>\n",
       "    </tr>\n",
       "  </tbody>\n",
       "</table>\n",
       "<p>118 rows × 9 columns</p>\n",
       "</div>"
      ],
      "text/plain": [
       "       Time     Food   Energy  Apparel  New vehicles  \\\n",
       "0    201203  232.792  253.599  127.258       144.350   \n",
       "1    201204  233.234  255.736  128.485       144.522   \n",
       "2    201205  233.339  250.306  127.688       144.401   \n",
       "3    201206  233.563  244.167  125.241       144.367   \n",
       "4    201207  233.630  239.972  122.300       143.953   \n",
       "..      ...      ...      ...      ...           ...   \n",
       "113  202108  279.135  246.639  121.194       158.652   \n",
       "114  202109  281.506  248.228  123.406       160.244   \n",
       "115  202110  284.205  255.338  124.323       162.527   \n",
       "116  202111  285.507  259.100  122.383       164.511   \n",
       "117  202112  286.966  256.207  121.068       166.653   \n",
       "\n",
       "     Medical care commodities  Tobacco and smoking products  Shelter  \\\n",
       "0                     333.188                       845.760  255.609   \n",
       "1                     333.060                       847.032  256.031   \n",
       "2                     333.131                       845.622  256.442   \n",
       "3                     333.348                       849.078  256.950   \n",
       "4                     335.048                       858.730  257.409   \n",
       "..                        ...                           ...      ...   \n",
       "113                   375.685                      1254.492  336.284   \n",
       "114                   376.842                      1263.542  337.451   \n",
       "115                   379.003                      1287.067  338.671   \n",
       "116                   379.483                      1298.746  339.997   \n",
       "117                   379.611                      1308.024  341.241   \n",
       "\n",
       "     Transportation services  \n",
       "0                    270.604  \n",
       "1                    272.146  \n",
       "2                    272.912  \n",
       "3                    273.239  \n",
       "4                    272.860  \n",
       "..                       ...  \n",
       "113                  325.652  \n",
       "114                  321.673  \n",
       "115                  323.903  \n",
       "116                  327.749  \n",
       "117                  326.063  \n",
       "\n",
       "[118 rows x 9 columns]"
      ]
     },
     "execution_count": 8,
     "metadata": {},
     "output_type": "execute_result"
    }
   ],
   "source": [
    "Data = pd.read_csv(\"CPI_Data/Cat_CPI&PPI/Cat_CPI.csv\")\n",
    "Data"
   ]
  },
  {
   "cell_type": "code",
   "execution_count": 22,
   "metadata": {
    "pycharm": {
     "name": "#%%\n"
    }
   },
   "outputs": [],
   "source": [
    "X = Data.iloc[:,0:1].values\n",
    "Y = Data.iloc[:,1:].T.values"
   ]
  },
  {
   "cell_type": "code",
   "execution_count": 5,
   "metadata": {
    "pycharm": {
     "name": "#%%\n"
    }
   },
   "outputs": [],
   "source": [
    "def evaluate_model(model, x, y):\n",
    "    scores = []\n",
    "    i = 1\n",
    "    for index in y:\n",
    "        x_train, x_test, y_train, y_test = train_test_split(x, index, random_state=1, test_size=0.2)\n",
    "        model.fit(x_train, y_train)\n",
    "        predict = model.predict(x_test)\n",
    "        score = np.sqrt(metrics.mean_squared_error(predict, y_test))\n",
    "        scores.append(score)\n",
    "        index_name = Data.columns[i]\n",
    "        print(f\"The model {model} can predict {index_name} index with root mean squared error of {score}\")\n",
    "        print(model.score(x_train, y_train))\n",
    "        i += 1\n",
    "    print(\"The mean error: \" + str(np.mean(scores)))"
   ]
  },
  {
   "cell_type": "code",
   "execution_count": 6,
   "metadata": {
    "pycharm": {
     "name": "#%%\n"
    }
   },
   "outputs": [
    {
     "name": "stdout",
     "output_type": "stream",
     "text": [
      "The model LinearRegression() can predict Food index with root mean squared error of 4.494881573126642\n",
      "0.9062433789459778\n",
      "The model LinearRegression() can predict Energy index with root mean squared error of 24.257106203164923\n",
      "0.1399106447969065\n",
      "The model LinearRegression() can predict Apparel index with root mean squared error of 3.560496072249128\n",
      "0.38544226702957374\n",
      "The model LinearRegression() can predict New vehicles index with root mean squared error of 3.486342935194696\n",
      "0.3258022878378779\n",
      "The model LinearRegression() can predict Medical care commodities index with root mean squared error of 8.006997245833995\n",
      "0.8419990866026268\n",
      "The model LinearRegression() can predict Tobacco and smoking products index with root mean squared error of 28.633498958363848\n",
      "0.9561597265027859\n",
      "The model LinearRegression() can predict Shelter index with root mean squared error of 2.5074864055506025\n",
      "0.9876268456820839\n",
      "The model LinearRegression() can predict Transportation services index with root mean squared error of 8.72690644230345\n",
      "0.8696956213424838\n",
      "The mean error: 10.45921447947341\n"
     ]
    }
   ],
   "source": [
    "Linear_Reg = LinearRegression()\n",
    "evaluate_model(Linear_Reg, X, Y)"
   ]
  },
  {
   "cell_type": "code",
   "execution_count": 7,
   "metadata": {
    "pycharm": {
     "name": "#%%\n"
    }
   },
   "outputs": [
    {
     "name": "stdout",
     "output_type": "stream",
     "text": [
      "The model predict next month Food index to be around 275.0\n",
      "The model predict next month Apparel index to be around 120.21\n",
      "The model predict next month New vehicles index to be around 151.47\n",
      "The model predict next month Shelter index to be around 342.98\n"
     ]
    }
   ],
   "source": [
    "Y_name = ['Food','Apparel','New vehicles','Shelter']\n",
    "Y = Data[Y_name].values.T\n",
    "prediction = []\n",
    "i = 0\n",
    "for index in Y:\n",
    "    Linear_Reg.fit(X, index)\n",
    "    predict = Linear_Reg.predict([[202203]])\n",
    "    print(f\"The model predict next month {Y_name[i]} index to be around {round(predict[0], 2)}\")\n",
    "    i += 1\n"
   ]
  }
 ],
 "metadata": {
  "kernelspec": {
   "display_name": "Python 3",
   "language": "python",
   "name": "python3"
  },
  "language_info": {
   "codemirror_mode": {
    "name": "ipython",
    "version": 3
   },
   "file_extension": ".py",
   "mimetype": "text/x-python",
   "name": "python",
   "nbconvert_exporter": "python",
   "pygments_lexer": "ipython3",
   "version": "3.8.5"
  }
 },
 "nbformat": 4,
 "nbformat_minor": 1
}
